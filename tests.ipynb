{
 "nbformat": 4,
 "nbformat_minor": 2,
 "metadata": {
  "language_info": {
   "name": "python",
   "codemirror_mode": {
    "name": "ipython",
    "version": 3
   },
   "version": "3.8.2-final"
  },
  "orig_nbformat": 2,
  "file_extension": ".py",
  "mimetype": "text/x-python",
  "name": "python",
  "npconvert_exporter": "python",
  "pygments_lexer": "ipython3",
  "version": 3,
  "kernelspec": {
   "name": "python38264bitvenvvenv4ca732631696488eb4cbf0e4a63b9d3b",
   "display_name": "Python 3.8.2 64-bit ('venv': venv)"
  }
 },
 "cells": [
  {
   "cell_type": "code",
   "execution_count": 17,
   "metadata": {},
   "outputs": [
    {
     "name": "stdout",
     "output_type": "stream",
     "text": "The ipython_unittest extension is already loaded. To reload it, use:\n  %reload_ext ipython_unittest\n"
    }
   ],
   "source": [
    "# ladowanie modulu od unittestow\n",
    "%load_ext ipython_unittest\n",
    "from collections import Counter\n",
    "from utils import *\n",
    "import requests"
   ]
  },
  {
   "cell_type": "code",
   "execution_count": 36,
   "metadata": {},
   "outputs": [
    {
     "data": {
      "application/unittest.status+json": {
       "color": "yellow",
       "message": "",
       "previous": 0
      },
      "text/plain": ""
     },
     "metadata": {},
     "output_type": "display_data"
    },
    {
     "data": {
      "application/unittest.status+json": {
       "color": "lightgreen",
       "message": "...\n----------------------------------------------------------------------\nRan 3 tests in 0.193s\n\nOK\n",
       "previous": 0
      },
      "text/plain": "Success"
     },
     "metadata": {},
     "output_type": "display_data"
    },
    {
     "name": "stdout",
     "output_type": "stream",
     "text": "...\n----------------------------------------------------------------------\nRan 3 tests in 0.193s\n\nOK\n"
    },
    {
     "data": {
      "text/plain": "<unittest.runner.TextTestResult run=3 errors=0 failures=0>"
     },
     "execution_count": 36,
     "metadata": {},
     "output_type": "execute_result"
    }
   ],
   "source": [
    "%%unittest_main\n",
    "\n",
    "class MergeTests(unittest.TestCase):\n",
    "    @classmethod\n",
    "    def setUpClass(cls):\n",
    "        reqUsers = requests.get(\"https://jsonplaceholder.typicode.com/users\")\n",
    "        reqPosts = requests.get(\"https://jsonplaceholder.typicode.com/posts\")\n",
    "        if [reqUsers.status_code, reqPosts.status_code] != [200, 200]: \n",
    "            raise Exception(\"Error: couldn't retrieve data from the server\") \n",
    "        cls.posts = reqPosts.json()\n",
    "        cls.users = reqUsers.json()\n",
    "\n",
    "    def testPostsNotNull(self):\n",
    "        for i in self.posts:\n",
    "            for j in i:\n",
    "                self.assertIsNotNone(j)\n",
    "\n",
    "    def testUsersNotNull(self):\n",
    "        for i in self.users:\n",
    "            for j in i:\n",
    "                self.assertIsNotNone(j)\n",
    "\n",
    "    def testMergedListHasAllFields(self):\n",
    "        postKeys = len(self.posts[0].keys())\n",
    "        userKeys = len(self.users[0].keys())\n",
    "        mL = mergeLists(self.posts, self.users, \"userId\")\n",
    "        self.assertEqual(len(mL[0].keys()), postKeys+userKeys-1)\n",
    "\n",
    "    "
   ]
  }
 ]
}
{
 "nbformat": 4,
 "nbformat_minor": 2,
 "metadata": {
  "language_info": {
   "name": "python",
   "codemirror_mode": {
    "name": "ipython",
    "version": 3
   },
   "version": "3.8.2-final"
  },
  "orig_nbformat": 2,
  "file_extension": ".py",
  "mimetype": "text/x-python",
  "name": "python",
  "npconvert_exporter": "python",
  "pygments_lexer": "ipython3",
  "version": 3,
  "kernelspec": {
   "name": "python38264bitvenvvenv4ca732631696488eb4cbf0e4a63b9d3b",
   "display_name": "Python 3.8.2 64-bit ('venv': venv)"
  }
 },
 "cells": [
  {
   "cell_type": "code",
   "execution_count": 4,
   "metadata": {},
   "outputs": [
    {
     "name": "stdout",
     "output_type": "stream",
     "text": "The ipython_unittest extension is already loaded. To reload it, use:\n  %reload_ext ipython_unittest\n"
    }
   ],
   "source": [
    "# ladowanie modulu od unittestow\n",
    "%load_ext ipython_unittest\n",
    "from utils import *"
   ]
  },
  {
   "cell_type": "code",
   "execution_count": 12,
   "metadata": {},
   "outputs": [
    {
     "data": {
      "application/unittest.status+json": {
       "color": "yellow",
       "message": "",
       "previous": 0
      },
      "text/plain": ""
     },
     "metadata": {},
     "output_type": "display_data"
    },
    {
     "data": {
      "application/unittest.status+json": {
       "color": "lightgreen",
       "message": "..\n----------------------------------------------------------------------\nRan 2 tests in 0.000s\n\nOK\n",
       "previous": 0
      },
      "text/plain": "Success"
     },
     "metadata": {},
     "output_type": "display_data"
    },
    {
     "name": "stdout",
     "output_type": "stream",
     "text": "..\n----------------------------------------------------------------------\nRan 2 tests in 0.000s\n\nOK\n"
    },
    {
     "data": {
      "text/plain": "<unittest.runner.TextTestResult run=2 errors=0 failures=0>"
     },
     "execution_count": 12,
     "metadata": {},
     "output_type": "execute_result"
    }
   ],
   "source": [
    "%%unittest_main\n",
    "class MyTest(unittest.TestCase):\n",
    "    def __init__(self):\n",
    "        \n",
    "    def test_1_plus_1_equals_2(self):\n",
    "        sum = 1 + 1\n",
    "        self.assertEqual(sum, 2)\n",
    "\n",
    "    def test_2_plus_2_equals_4(self):\n",
    "        self.assertEqual(2 + 2, 4)"
   ]
  }
 ]
}
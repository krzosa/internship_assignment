{
 "nbformat": 4,
 "nbformat_minor": 2,
 "metadata": {
  "language_info": {
   "name": "python",
   "codemirror_mode": {
    "name": "ipython",
    "version": 3
   },
   "version": "3.8.2-final"
  },
  "orig_nbformat": 2,
  "file_extension": ".py",
  "mimetype": "text/x-python",
  "name": "python",
  "npconvert_exporter": "python",
  "pygments_lexer": "ipython3",
  "version": 3,
  "kernelspec": {
   "name": "python38264bitvenvvenv4ca732631696488eb4cbf0e4a63b9d3b",
   "display_name": "Python 3.8.2 64-bit ('venv': venv)"
  }
 },
 "cells": [
  {
   "cell_type": "code",
   "execution_count": 1,
   "metadata": {},
   "outputs": [],
   "source": [
    "# ladowanie modulu od unittestow\n",
    "%load_ext ipython_unittest\n",
    "from collections import Counter\n",
    "from utils import *\n",
    "import requests "
   ]
  },
  {
   "cell_type": "code",
   "execution_count": 41,
   "metadata": {},
   "outputs": [
    {
     "data": {
      "application/unittest.status+json": {
       "color": "yellow",
       "message": "",
       "previous": 0
      },
      "text/plain": ""
     },
     "metadata": {},
     "output_type": "display_data"
    },
    {
     "data": {
      "application/unittest.status+json": {
       "color": "lightgreen",
       "message": ".......\n----------------------------------------------------------------------\nRan 7 tests in 0.945s\n\nOK\n",
       "previous": 0
      },
      "text/plain": "Success"
     },
     "metadata": {},
     "output_type": "display_data"
    },
    {
     "name": "stdout",
     "output_type": "stream",
     "text": ".......\n----------------------------------------------------------------------\nRan 7 tests in 0.945s\n\nOK\n"
    },
    {
     "data": {
      "text/plain": "<unittest.runner.TextTestResult run=7 errors=0 failures=0>"
     },
     "execution_count": 41,
     "metadata": {},
     "output_type": "execute_result"
    }
   ],
   "source": [
    "%%unittest_main\n",
    "\n",
    "class MergeTests(unittest.TestCase):\n",
    "    @classmethod\n",
    "    def setUpClass(cls):\n",
    "        reqUsers = requests.get(\"https://jsonplaceholder.typicode.com/users\")\n",
    "        reqPosts = requests.get(\"https://jsonplaceholder.typicode.com/posts\")\n",
    "        if [reqUsers.status_code, reqPosts.status_code] != [200, 200]: \n",
    "            raise Exception(\"Error: couldn't retrieve data from the server\") \n",
    "        cls.posts = reqPosts.json()\n",
    "        cls.users = reqUsers.json()\n",
    "        cls.mL = mergeLists(cls.posts, cls.users, \"userId\")\n",
    "\n",
    "    def testPostsNotNull(self):\n",
    "        for i in self.posts:\n",
    "            for j in i:\n",
    "                self.assertIsNotNone(j)\n",
    "\n",
    "    def testUsersNotNull(self):\n",
    "        for i in self.users:\n",
    "            for j in i:\n",
    "                self.assertIsNotNone(j)\n",
    "\n",
    "    def testMergedProperly(self):\n",
    "        postKeys = len(self.posts[0].keys())\n",
    "        userKeys = len(self.users[0].keys())\n",
    "        self.assertEqual(len(self.mL[0].keys()), 11)\n",
    "\n",
    "    def testIdsOfPosts(self):\n",
    "        for i in range(len(self.posts)):\n",
    "            self.assertEqual(self.posts[i]['id'], i+1)\n",
    "\n",
    "    def testIdsOfUsers(self):\n",
    "        for i in range(len(self.users)):\n",
    "            self.assertEqual(self.users[i]['id'], i+1)\n",
    "\n",
    "    def testMergeListIds(self):\n",
    "        for i in range(len(self.mL)):\n",
    "            self.assertEqual(self.mL[i]['id'], i+1)\n",
    "\n",
    "    def testMergeListUIds(self):\n",
    "        userIds = [i+1 for i in range(len(self.users))]\n",
    "        for i in self.mL:\n",
    "            self.assertIn(i['userId'], userIds)\n",
    "\n",
    "    "
   ]
  },
  {
   "cell_type": "code",
   "execution_count": null,
   "metadata": {},
   "outputs": [],
   "source": [
    "\n"
   ]
  }
 ]
}
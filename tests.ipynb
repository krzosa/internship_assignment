{
 "nbformat": 4,
 "nbformat_minor": 2,
 "metadata": {
  "language_info": {
   "name": "python",
   "codemirror_mode": {
    "name": "ipython",
    "version": 3
   },
   "version": "3.8.2-final"
  },
  "orig_nbformat": 2,
  "file_extension": ".py",
  "mimetype": "text/x-python",
  "name": "python",
  "npconvert_exporter": "python",
  "pygments_lexer": "ipython3",
  "version": 3,
  "kernelspec": {
   "name": "python38264bitvenvvenv4ca732631696488eb4cbf0e4a63b9d3b",
   "display_name": "Python 3.8.2 64-bit ('venv': venv)"
  }
 },
 "cells": [
  {
   "cell_type": "code",
   "execution_count": 1,
   "metadata": {},
   "outputs": [],
   "source": [
    "# ladowanie modulu od unittestow\n",
    "%load_ext ipython_unittest\n",
    "from collections import Counter\n",
    "from geopy import distance\n",
    "from utils import *\n",
    "import requests "
   ]
  },
  {
   "cell_type": "code",
   "execution_count": 2,
   "metadata": {},
   "outputs": [
    {
     "data": {
      "application/unittest.status+json": {
       "color": "yellow",
       "message": "",
       "previous": 0
      },
      "text/plain": ""
     },
     "metadata": {},
     "output_type": "display_data"
    },
    {
     "data": {
      "application/unittest.status+json": {
       "color": "lightgreen",
       "message": "........\n----------------------------------------------------------------------\nRan 8 tests in 0.284s\n\nOK\n",
       "previous": 0
      },
      "text/plain": "Success"
     },
     "metadata": {},
     "output_type": "display_data"
    },
    {
     "name": "stdout",
     "output_type": "stream",
     "text": "........\n----------------------------------------------------------------------\nRan 8 tests in 0.284s\n\nOK\n"
    },
    {
     "data": {
      "text/plain": "<unittest.runner.TextTestResult run=8 errors=0 failures=0>"
     },
     "execution_count": 2,
     "metadata": {},
     "output_type": "execute_result"
    }
   ],
   "source": [
    "%%unittest_main\n",
    "class MergeTests(unittest.TestCase):\n",
    "    @classmethod\n",
    "    def setUpClass(cls):\n",
    "        reqUsers = requests.get(\"https://jsonplaceholder.typicode.com/users\")\n",
    "        reqPosts = requests.get(\"https://jsonplaceholder.typicode.com/posts\")\n",
    "        if [reqUsers.status_code, reqPosts.status_code] != [200, 200]: \n",
    "            raise Exception(\"Error: couldn't retrieve data from the server\") \n",
    "        cls.posts = reqPosts.json()\n",
    "        cls.users = reqUsers.json()\n",
    "        cls.mL = mergeLists(cls.posts, cls.users, \"userId\")\n",
    "\n",
    "    def testPostsNotNull(self):\n",
    "        for i in self.posts:\n",
    "            for j in i:\n",
    "                self.assertIsNotNone(j)\n",
    "\n",
    "    def testUsersNotNull(self):\n",
    "        for i in self.users:\n",
    "            for j in i:\n",
    "                self.assertIsNotNone(j)\n",
    "\n",
    "    def testMergedProperly(self):\n",
    "        postKeys = len(self.posts[0].keys())\n",
    "        userKeys = len(self.users[0].keys())\n",
    "        self.assertEqual(len(self.mL[0].keys()), 11)\n",
    "\n",
    "    def testIdsOfPosts(self):\n",
    "        for i in range(len(self.posts)):\n",
    "            self.assertEqual(self.posts[i]['id'], i+1)\n",
    "\n",
    "    def testIdsOfUsers(self):\n",
    "        for i in range(len(self.users)):\n",
    "            self.assertEqual(self.users[i]['id'], i+1)\n",
    "\n",
    "    def testMergeListIds(self):\n",
    "        for i in range(len(self.mL)):\n",
    "            self.assertEqual(self.mL[i]['id'], i+1)\n",
    "\n",
    "    def testMergeListUIds(self):\n",
    "        userIds = [i+1 for i in range(len(self.users))]\n",
    "        for i in self.mL:\n",
    "            self.assertIn(i['userId'], userIds)\n",
    "\n",
    "    def testPostsPerUserUsernames(self):\n",
    "        usernames= []\n",
    "        for i in range(len(self.users)):\n",
    "            usernames.append(self.users[i]['username'])\n",
    "        counts = countPostsPerUser(self.mL)\n",
    "        for i in counts: \n",
    "            self.assertIn(counts[i][1], usernames)"
   ]
  },
  {
   "cell_type": "code",
   "execution_count": 3,
   "metadata": {},
   "outputs": [
    {
     "data": {
      "application/unittest.status+json": {
       "color": "yellow",
       "message": "",
       "previous": 0
      },
      "text/plain": ""
     },
     "metadata": {},
     "output_type": "display_data"
    },
    {
     "data": {
      "application/unittest.status+json": {
       "color": "lightgreen",
       "message": "....\n----------------------------------------------------------------------\nRan 4 tests in 0.261s\n\nOK\n",
       "previous": 0
      },
      "text/plain": "Success"
     },
     "metadata": {},
     "output_type": "display_data"
    },
    {
     "name": "stdout",
     "output_type": "stream",
     "text": "....\n----------------------------------------------------------------------\nRan 4 tests in 0.261s\n\nOK\n"
    },
    {
     "data": {
      "text/plain": "<unittest.runner.TextTestResult run=4 errors=0 failures=0>"
     },
     "execution_count": 3,
     "metadata": {},
     "output_type": "execute_result"
    }
   ],
   "source": [
    "%%unittest_main\n",
    "class PostsMethodsTests(unittest.TestCase):\n",
    "    @classmethod\n",
    "    def setUpClass(cls):\n",
    "        cls.posts = requests.get(\"https://jsonplaceholder.typicode.com/posts\").json()\n",
    "        cls.titles = getPostTitles(cls.posts)\n",
    "\n",
    "    def testTypeOfTitles(self):\n",
    "        for i in self.titles:\n",
    "            self.assertIsInstance(i, str)\n",
    "    \n",
    "    def testNumberOfTitles(self):\n",
    "        self.assertEqual(len(self.posts), len(self.titles))\n",
    "\n",
    "    def testNonUniqueTitles(self):\n",
    "        title = self.titles.copy()\n",
    "        title.append(title[0])\n",
    "        nonUniqueTitle = [key for (key,value) in Counter(title).items() if value > 1]\n",
    "        self.assertEqual(nonUniqueTitle, [title[0]])\n",
    "\n",
    "    def testAllTitlesUnique(self):\n",
    "        title = self.titles.copy()\n",
    "        nonUniqueTitles = [key for (key,value) in Counter(title).items() if value > 1]\n",
    "        self.assertEqual(nonUniqueTitles, [])\n"
   ]
  },
  {
   "cell_type": "code",
   "execution_count": 4,
   "metadata": {},
   "outputs": [
    {
     "data": {
      "application/unittest.status+json": {
       "color": "yellow",
       "message": "",
       "previous": 0
      },
      "text/plain": ""
     },
     "metadata": {},
     "output_type": "display_data"
    },
    {
     "data": {
      "application/unittest.status+json": {
       "color": "lightgreen",
       "message": ".......\n----------------------------------------------------------------------\nRan 7 tests in 0.188s\n\nOK\n",
       "previous": 0
      },
      "text/plain": "Success"
     },
     "metadata": {},
     "output_type": "display_data"
    },
    {
     "name": "stdout",
     "output_type": "stream",
     "text": ".......\n----------------------------------------------------------------------\nRan 7 tests in 0.188s\n\nOK\n"
    },
    {
     "data": {
      "text/plain": "<unittest.runner.TextTestResult run=7 errors=0 failures=0>"
     },
     "execution_count": 4,
     "metadata": {},
     "output_type": "execute_result"
    }
   ],
   "source": [
    "%%unittest_main\n",
    "class DistanceTests(unittest.TestCase):\n",
    "    @classmethod\n",
    "    def setUpClass(cls):\n",
    "        cls.users = requests.get(\"https://jsonplaceholder.typicode.com/users\").json()\n",
    "        cls.distances = calculateDistances(cls.users)\n",
    "        cls.max = findNearestNeighbours(cls.distances)\n",
    "\n",
    "    def testDistancesSize(self):\n",
    "        self.assertEqual(len(self.users), len(self.distances))\n",
    "\n",
    "    def testIfDistancesNotNone(self):\n",
    "        for i in self.distances.keys():\n",
    "            for j in self.distances[i]:\n",
    "                self.assertIsNotNone(j)\n",
    "    \n",
    "    def testIfCalculatesDiagonalDistanceCorrectly(self):\n",
    "        for i in self.distances.keys():\n",
    "            for j in self.distances[i]:\n",
    "                if i == j:\n",
    "                    self.assertEqual(j, 0)\n",
    "\n",
    "    def testIfCalulatesProperly(self):\n",
    "        userss = self.users\n",
    "        geo1 = (userss[1]['address']['geo']['lat'], userss[1]['address']['geo']['lng'])\n",
    "        geo2 = (userss[2]['address']['geo']['lat'], userss[2]['address']['geo']['lng'])\n",
    "        dist = geopy.distance.distance(geo1, geo2).km\n",
    "        self.assertEqual(dist, self.distances[1][1])\n",
    "    \n",
    "    def testIfNearestNeighboursDoesntCalculateZeros(self):\n",
    "        for i in self.max:\n",
    "            self.assertNotEqual(self.max[i][1], 0)\n",
    "\n",
    "    def testIfNearestNeigboursCalculatesProperly(self):\n",
    "        self.assertEqual(self.max[0][1], 1810.3222631439153)\n",
    "        self.assertEqual(self.max[1][1], 2841.1566568831986)\n",
    "        self.assertEqual(self.max[2][1], 2841.1566568831986)\n",
    "\n",
    "    def testNearestNeighboursLength(self):\n",
    "        self.assertEqual(len(self.max), len(self.users))\n",
    "\n",
    "    "
   ]
  }
 ]
}
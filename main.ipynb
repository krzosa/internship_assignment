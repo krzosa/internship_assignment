{
 "nbformat": 4,
 "nbformat_minor": 2,
 "metadata": {
  "language_info": {
   "name": "python",
   "codemirror_mode": {
    "name": "ipython",
    "version": 3
   },
   "version": "3.8.2-final"
  },
  "orig_nbformat": 2,
  "file_extension": ".py",
  "mimetype": "text/x-python",
  "name": "python",
  "npconvert_exporter": "python",
  "pygments_lexer": "ipython3",
  "version": 3,
  "kernelspec": {
   "name": "python38264bitvenvvenv4ca732631696488eb4cbf0e4a63b9d3b",
   "display_name": "Python 3.8.2 64-bit ('venv': venv)"
  }
 },
 "cells": [
  {
   "cell_type": "markdown",
   "metadata": {},
   "source": [
    "# Wariant 2\n",
    "Stwórz program/skrypt który\n",
    "* pobierze dane o postach z ​https://jsonplaceholder.typicode.com/posts​ ​i połączy je z danymi o\n",
    "userach ​https://jsonplaceholder.typicode.com/users\n",
    "* policzy ile postów napisali userzy i zwróci listę stringów w postaci “​user_name napisał(a) ​count \n",
    "postów”\n",
    "* sprawdzi czy tytuły postów są unikalne i zwróci listę tytułów które nie są.\n",
    "* dla każdego użytkownika znajdzie innego użytkownika, który mieszka najbliżej niego\n",
    "\n",
    "Pożądanym elementem danego rozwiązania jest także zestaw testów sprawdzających jego poprawność."
   ]
  },
  {
   "cell_type": "markdown",
   "metadata": {},
   "source": [
    "## Zad1"
   ]
  },
  {
   "cell_type": "code",
   "execution_count": 2,
   "metadata": {},
   "outputs": [
    {
     "name": "stdout",
     "output_type": "stream",
     "text": "Przyklad postu: \n"
    },
    {
     "data": {
      "text/plain": "{'userId': 1,\n 'id': 1,\n 'title': 'sunt aut facere repellat provident occaecati excepturi optio reprehenderit',\n 'body': 'quia et suscipit\\nsuscipit recusandae consequuntur expedita et cum\\nreprehenderit molestiae ut ut quas totam\\nnostrum rerum est autem sunt rem eveniet architecto'}"
     },
     "execution_count": 2,
     "metadata": {},
     "output_type": "execute_result"
    }
   ],
   "source": [
    "# Wczytywanie danych\n",
    "import requests\n",
    "\n",
    "reqUsers = requests.get(\"https://jsonplaceholder.typicode.com/users\")\n",
    "reqPosts = requests.get(\"https://jsonplaceholder.typicode.com/posts\")\n",
    "if [reqUsers.status_code, reqPosts.status_code] != [200, 200]: \n",
    "    raise Exception(\"Error: couldn't retrieve data from the server\")\n",
    "\n",
    "posts = reqPosts.json()\n",
    "users = reqUsers.json()\n",
    "print(\"Przyklad postu: \")\n",
    "posts[0]"
   ]
  },
  {
   "cell_type": "code",
   "execution_count": 3,
   "metadata": {},
   "outputs": [
    {
     "name": "stdout",
     "output_type": "stream",
     "text": "Przyklad polaczenia/mergu list: \n"
    },
    {
     "data": {
      "text/plain": "{'userId': 1,\n 'id': 2,\n 'title': 'qui est esse',\n 'body': 'est rerum tempore vitae\\nsequi sint nihil reprehenderit dolor beatae ea dolores neque\\nfugiat blanditiis voluptate porro vel nihil molestiae ut reiciendis\\nqui aperiam non debitis possimus qui neque nisi nulla',\n 'name': 'Leanne Graham',\n 'username': 'Bret',\n 'email': 'Sincere@april.biz',\n 'address': {'street': 'Kulas Light',\n  'suite': 'Apt. 556',\n  'city': 'Gwenborough',\n  'zipcode': '92998-3874',\n  'geo': {'lat': '-37.3159', 'lng': '81.1496'}},\n 'phone': '1-770-736-8031 x56442',\n 'website': 'hildegard.org',\n 'company': {'name': 'Romaguera-Crona',\n  'catchPhrase': 'Multi-layered client-server neural-net',\n  'bs': 'harness real-time e-markets'}}"
     },
     "execution_count": 3,
     "metadata": {},
     "output_type": "execute_result"
    }
   ],
   "source": [
    "from utils import mergeLists\n",
    "userPosts = mergeLists(posts, users, \"userId\")\n",
    "print(\"Przyklad polaczenia/mergu list: \")\n",
    "userPosts[1]"
   ]
  },
  {
   "cell_type": "markdown",
   "metadata": {},
   "source": [
    "## Zad2"
   ]
  },
  {
   "cell_type": "code",
   "execution_count": 4,
   "metadata": {},
   "outputs": [
    {
     "name": "stdout",
     "output_type": "stream",
     "text": "Bret napisał(a) 10 postów\nAntonette napisał(a) 10 postów\nSamantha napisał(a) 10 postów\nKarianne napisał(a) 10 postów\nKamren napisał(a) 10 postów\nLeopoldo_Corkery napisał(a) 10 postów\nElwyn.Skiles napisał(a) 10 postów\nMaxime_Nienow napisał(a) 10 postów\nDelphine napisał(a) 10 postów\nMoriah.Stanton napisał(a) 10 postów\n"
    }
   ],
   "source": [
    "from utils import countPostsPerUser\n",
    "postsPerUser = countPostsPerUser(userPosts)\n",
    "for key in postsPerUser.keys():\n",
    "    print(\"{0} napisał(a) {1} postów\".format(postsPerUser[key][1], postsPerUser[key][0]))"
   ]
  },
  {
   "cell_type": "markdown",
   "metadata": {},
   "source": [
    "## Zad3 "
   ]
  },
  {
   "cell_type": "code",
   "execution_count": 5,
   "metadata": {},
   "outputs": [
    {
     "name": "stdout",
     "output_type": "stream",
     "text": "Lista tytulow postow ktore sie powtorzyly (brak): \n"
    },
    {
     "data": {
      "text/plain": "[]"
     },
     "execution_count": 5,
     "metadata": {},
     "output_type": "execute_result"
    }
   ],
   "source": [
    "# counter pomaga w zliczaniu \n",
    "from collections import Counter\n",
    "from utils import getPostTitles\n",
    "\n",
    "titles = getPostTitles(posts)\n",
    "print(\"Lista tytulow postow ktore sie powtorzyly (brak): \")\n",
    "# Counter pozwala w prosty sposob zbadac ktore rekordy sie powtorzyly\n",
    "# dziala to na podobnej zasadzie co countPostsPerUser z zadania 2\n",
    "[key for (key,value) in Counter(titles).items() if value > 1]"
   ]
  },
  {
   "cell_type": "markdown",
   "metadata": {},
   "source": [
    "## Zad4"
   ]
  },
  {
   "cell_type": "code",
   "execution_count": 6,
   "metadata": {},
   "outputs": [
    {
     "name": "stdout",
     "output_type": "stream",
     "text": "Najblizsi sasiedzi w formacie ( userId: [najblizszyUserId, dystans]) : \n"
    },
    {
     "data": {
      "text/plain": "{0: [4, 1810.3222631439153],\n 1: [2, 2841.1566568831986],\n 2: [1, 2841.1566568831986],\n 3: [8, 700.9122399238803],\n 4: [9, 861.6505388053678],\n 5: [9, 3785.9830263128797],\n 6: [4, 7618.822773137622],\n 7: [3, 6738.0697783748055],\n 8: [3, 700.9122399238803],\n 9: [4, 861.6505388053678]}"
     },
     "execution_count": 6,
     "metadata": {},
     "output_type": "execute_result"
    }
   ],
   "source": [
    "from utils import calculateDistances\n",
    "from utils import findNearestNeighbours\n",
    "usersDistances = calculateDistances(users)\n",
    "nearestNeighbours = findNearestNeighbours(usersDistances)\n",
    "print(\"Najblizsi sasiedzi w formacie ( userId: [najblizszyUserId, dystans]) : \")\n",
    "nearestNeighbours"
   ]
  }
 ]
}